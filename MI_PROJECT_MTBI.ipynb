{
 "cells": [
  {
   "cell_type": "code",
   "execution_count": 37,
   "id": "0a97ca84",
   "metadata": {},
   "outputs": [],
   "source": [
    "import pandas as pd\n",
    "import numpy as np\n",
    "import nltk\n",
    "import re\n",
    "import seaborn as sns\n",
    "import matplotlib.pyplot as plt"
   ]
  },
  {
   "cell_type": "code",
   "execution_count": 38,
   "id": "7b3dfb7e",
   "metadata": {},
   "outputs": [
    {
     "data": {
      "text/html": [
       "<div>\n",
       "<style scoped>\n",
       "    .dataframe tbody tr th:only-of-type {\n",
       "        vertical-align: middle;\n",
       "    }\n",
       "\n",
       "    .dataframe tbody tr th {\n",
       "        vertical-align: top;\n",
       "    }\n",
       "\n",
       "    .dataframe thead th {\n",
       "        text-align: right;\n",
       "    }\n",
       "</style>\n",
       "<table border=\"1\" class=\"dataframe\">\n",
       "  <thead>\n",
       "    <tr style=\"text-align: right;\">\n",
       "      <th></th>\n",
       "      <th>type</th>\n",
       "      <th>posts</th>\n",
       "    </tr>\n",
       "  </thead>\n",
       "  <tbody>\n",
       "    <tr>\n",
       "      <th>0</th>\n",
       "      <td>INFJ</td>\n",
       "      <td>'http://www.youtube.com/watch?v=qsXHcwe3krw|||...</td>\n",
       "    </tr>\n",
       "    <tr>\n",
       "      <th>1</th>\n",
       "      <td>ENTP</td>\n",
       "      <td>'I'm finding the lack of me in these posts ver...</td>\n",
       "    </tr>\n",
       "    <tr>\n",
       "      <th>2</th>\n",
       "      <td>INTP</td>\n",
       "      <td>'Good one  _____   https://www.youtube.com/wat...</td>\n",
       "    </tr>\n",
       "    <tr>\n",
       "      <th>3</th>\n",
       "      <td>INTJ</td>\n",
       "      <td>'Dear INTP,   I enjoyed our conversation the o...</td>\n",
       "    </tr>\n",
       "    <tr>\n",
       "      <th>4</th>\n",
       "      <td>ENTJ</td>\n",
       "      <td>'You're fired.|||That's another silly misconce...</td>\n",
       "    </tr>\n",
       "  </tbody>\n",
       "</table>\n",
       "</div>"
      ],
      "text/plain": [
       "   type                                              posts\n",
       "0  INFJ  'http://www.youtube.com/watch?v=qsXHcwe3krw|||...\n",
       "1  ENTP  'I'm finding the lack of me in these posts ver...\n",
       "2  INTP  'Good one  _____   https://www.youtube.com/wat...\n",
       "3  INTJ  'Dear INTP,   I enjoyed our conversation the o...\n",
       "4  ENTJ  'You're fired.|||That's another silly misconce..."
      ]
     },
     "execution_count": 38,
     "metadata": {},
     "output_type": "execute_result"
    }
   ],
   "source": [
    "data = pd.read_csv(r'D:\\5th Sem\\Machine Intelligence\\mbti_1.csv') #converting to dataframe data\n",
    "data.head()"
   ]
  },
  {
   "cell_type": "code",
   "execution_count": 11,
   "id": "18288576",
   "metadata": {},
   "outputs": [
    {
     "name": "stdout",
     "output_type": "stream",
     "text": [
      "<class 'pandas.core.frame.DataFrame'>\n",
      "RangeIndex: 8675 entries, 0 to 8674\n",
      "Data columns (total 2 columns):\n",
      " #   Column  Non-Null Count  Dtype \n",
      "---  ------  --------------  ----- \n",
      " 0   type    8675 non-null   object\n",
      " 1   posts   8675 non-null   object\n",
      "dtypes: object(2)\n",
      "memory usage: 135.7+ KB\n"
     ]
    }
   ],
   "source": [
    "data.info()"
   ]
  },
  {
   "cell_type": "code",
   "execution_count": 12,
   "id": "1c83f820",
   "metadata": {},
   "outputs": [
    {
     "data": {
      "text/html": [
       "<div>\n",
       "<style scoped>\n",
       "    .dataframe tbody tr th:only-of-type {\n",
       "        vertical-align: middle;\n",
       "    }\n",
       "\n",
       "    .dataframe tbody tr th {\n",
       "        vertical-align: top;\n",
       "    }\n",
       "\n",
       "    .dataframe thead th {\n",
       "        text-align: right;\n",
       "    }\n",
       "</style>\n",
       "<table border=\"1\" class=\"dataframe\">\n",
       "  <thead>\n",
       "    <tr style=\"text-align: right;\">\n",
       "      <th></th>\n",
       "      <th>type</th>\n",
       "      <th>posts</th>\n",
       "    </tr>\n",
       "  </thead>\n",
       "  <tbody>\n",
       "    <tr>\n",
       "      <th>count</th>\n",
       "      <td>8675</td>\n",
       "      <td>8675</td>\n",
       "    </tr>\n",
       "    <tr>\n",
       "      <th>unique</th>\n",
       "      <td>16</td>\n",
       "      <td>8675</td>\n",
       "    </tr>\n",
       "    <tr>\n",
       "      <th>top</th>\n",
       "      <td>INFP</td>\n",
       "      <td>'http://www.youtube.com/watch?v=qsXHcwe3krw|||...</td>\n",
       "    </tr>\n",
       "    <tr>\n",
       "      <th>freq</th>\n",
       "      <td>1832</td>\n",
       "      <td>1</td>\n",
       "    </tr>\n",
       "  </tbody>\n",
       "</table>\n",
       "</div>"
      ],
      "text/plain": [
       "        type                                              posts\n",
       "count   8675                                               8675\n",
       "unique    16                                               8675\n",
       "top     INFP  'http://www.youtube.com/watch?v=qsXHcwe3krw|||...\n",
       "freq    1832                                                  1"
      ]
     },
     "execution_count": 12,
     "metadata": {},
     "output_type": "execute_result"
    }
   ],
   "source": [
    "data.describe()"
   ]
  },
  {
   "cell_type": "code",
   "execution_count": 13,
   "id": "8c0b0bf2",
   "metadata": {},
   "outputs": [
    {
     "name": "stdout",
     "output_type": "stream",
     "text": [
      "['INFJ' 'ENTP' 'INTP' 'INTJ' 'ENTJ' 'ENFJ' 'INFP' 'ENFP' 'ISFP' 'ISTP'\n",
      " 'ISFJ' 'ISTJ' 'ESTP' 'ESFP' 'ESTJ' 'ESFJ']\n"
     ]
    }
   ],
   "source": [
    "_classes = data.type.unique()\n",
    "print(_classes)"
   ]
  },
  {
   "cell_type": "code",
   "execution_count": 14,
   "id": "48222ed7",
   "metadata": {},
   "outputs": [
    {
     "data": {
      "image/png": "[encoded data removed]",
      "text/plain": [
       "<Figure size 432x288 with 1 Axes>"
      ]
     },
     "metadata": {
      "needs_background": "light"
     },
     "output_type": "display_data"
    }
   ],
   "source": [
    "pd.DataFrame(data.type.value_counts()).plot.bar()\n",
    "plt.ylabel('Frequency')\n",
    "plt.xlabel('Types of Categories')\n",
    "plt.title('Bar graph showing frequency of different types of personalities')\n",
    "plt.show()"
   ]
  },
  {
   "cell_type": "code",
   "execution_count": 15,
   "id": "e110ac3a",
   "metadata": {},
   "outputs": [
    {
     "name": "stderr",
     "output_type": "stream",
     "text": [
      "D:\\Users\\AnanyaS\\anaconda3\\lib\\site-packages\\seaborn\\distributions.py:2619: FutureWarning: `distplot` is a deprecated function and will be removed in a future version. Please adapt your code to use either `displot` (a figure-level function with similar flexibility) or `histplot` (an axes-level function for histograms).\n",
      "  warnings.warn(msg, FutureWarning)\n"
     ]
    },
    {
     "data": {
      "text/plain": [
       "Text(0.5, 1.0, 'Distribution of lengths of the post')"
      ]
     },
     "execution_count": 15,
     "metadata": {},
     "output_type": "execute_result"
    },
    {
     "data": {
      "image/png": "[encoded data removed]",
      "text/plain": [
       "<Figure size 432x288 with 1 Axes>"
      ]
     },
     "metadata": {
      "needs_background": "light"
     },
     "output_type": "display_data"
    }
   ],
   "source": [
    "sns.distplot(data[\"posts\"].apply(len))\n",
    "plt.xlabel(\"Length of posts\")\n",
    "plt.ylabel(\"Density\")\n",
    "plt.title(\"Distribution of lengths of the post\")"
   ]
  },
  {
   "cell_type": "code",
   "execution_count": 19,
   "id": "213c035a",
   "metadata": {},
   "outputs": [],
   "source": [
    "def show_class_distribution(data, x=\"type\", figsize=(16,4), title=\"Distribution of Personality Types\", xticks_size=10, palette=\"husl\"):\n",
    "    plt.figure(figsize=figsize)\n",
    "    sns.countplot(x=x, data=data, palette=palette)\n",
    "    plt.xlabel(\"Personality Types\", size=15)\n",
    "    plt.ylabel(\"Counts\", size=15)\n",
    "    plt.xticks(size=xticks_size)\n",
    "    plt.title(title, size=20)\n",
    "    plt.show()"
   ]
  },
  {
   "cell_type": "code",
   "execution_count": 20,
   "id": "208c80e2",
   "metadata": {},
   "outputs": [
    {
     "data": {
      "image/png": "[encoded data removed]",
      "text/plain": [
       "<Figure size 1152x288 with 1 Axes>"
      ]
     },
     "metadata": {
      "needs_background": "light"
     },
     "output_type": "display_data"
    }
   ],
   "source": [
    "show_class_distribution(data, xticks_size=14)"
   ]
  },
  {
   "cell_type": "code",
   "execution_count": 39,
   "id": "ca26da69",
   "metadata": {},
   "outputs": [
    {
     "data": {
      "text/plain": [
       "\"I'm not sure, that's a good question. The distinction between the two is so dependant on perception. To quote Robb Flynn, ''The hate you feel is nothing more, than love you feel to win this war.''|||Good question! It's tough to say for sure but I loved Winona Ryder as Lydia in Beetlejuice...  http://i63.photobucket.com/albums/h158/trinsghost/Misc-Images/2921aa070866f20450f8e1160b1e5d41.jpg|||https://www.youtube.com/watch?v=r5If816MhoU|||https://www.youtube.com/watch?v=Q-sQklvpDhA|||I've been lonely for much of my time. For a while now I've been working on changing ''how to think'', and one way is trying to find the positive in everything, no matter how bleak it might seem. I...|||I hope I can look back at this current stretch of time and think, ''Thank God I'm not there anymore and things are so much better''. What an ass-kickin' I'm taking.|||Help or a voice of reason, other than my own distorted, in my life. I'm completely frusterated and feel like I'm on the brink. I'm carrying the weight of everything negative I've ever had in my life...|||Think I posted this before but I'm still feelin' it....   https://www.youtube.com/watch?v=Cu8qsC1WLiE|||Fleeting thoughts of acknowledging and getting lost in the depth love that we share for one another. It could be the most mundane thing but every now and the simplest act will make me appreciate the...|||https://www.youtube.com/watch?v=pULe7-6yRo4|||I've been told that I'm OCD and I'm aware of it. For me it's more than just obsessive cleaning and things of that nature. I've come to understand how it affects things such as obsessing on a thought...|||https://www.youtube.com/watch?v=XkbQDChgmX8|||I'm working on a song I've been trying to learn for just about a year. Was hoping to finish it before the New Year but still have a ways to go.|||Sons of Anarchy is the first TV series I've followed since The X-Files WAY back in the day.|||https://www.youtube.com/watch?v=2R2NrV4ve1o|||Fleeting|||I'm not a big book person but every now and then I go through stages and force myself to read more than I normally do. One book that always stands out in terms of interest while reading was ''Venus...|||https://www.youtube.com/watch?v=9utPTpXpIgE|||Frustration got the best of me today, and has been a lot lately. Having a couple Heinekens right now and feel a bit better. :) This is a difficult time, and is going to be for a bit, gotta maintain.|||Find balance, get more in harmony with life and position myself to capitalize on any opportunity that presents itself. Within that lies the path to a more fulfilled life, at least I'm hoping. ;)|||https://www.youtube.com/watch?v=RoL0nRuHj0I|||I'm not a touchy-feely person and don't care for folks I don't know feeling up on me. My response depends greatly on the person doing it. Some people are just naturally affectionate and it's their...|||https://www.youtube.com/watch?v=oYZh9yQu1fo|||https://www.youtube.com/watch?v=d5abdXpvBR0  ...Very frusterated, wrestling with thought, and not winning.|||Escape From Alcatraz|||https://www.youtube.com/watch?v=u8lOTMMRJZg|||https://www.youtube.com/watch?v=-ls5mug1_KU|||I'm grateful to still have a little time to make good of all the things I've learned the hard way through countless mistakes and wrong turns.|||https://www.youtube.com/watch?v=ff_6BF37fI0|||A great song to start the day...   https://www.youtube.com/watch?v=YnHaYVYFTU8|||Joints hurt a little, other than that I feel the same old usual indifference. :P|||An early 90's style Ford Mustang GT with the more square body. In all reality, one can be found for a few thousand dollars which makes this dream car very attainable. :)|||http://www.youtube.com/watch?v=Cu8qsC1WLiE|||It was kind of intended to have a dark, terrible to feel about it. Depression has many depths, and those levels vary from person to person. I've dealt with serious depression my whole life and it...|||http://www.youtube.com/watch?v=QnRkiAK_gZc|||http://www.youtube.com/watch?v=66Vc-2CS4ew|||Comfort food - Pizza and chicken wings, cheesecake or pumpkin pie  Comfort drink - Redbull, Guinness or Red Wine|||Still grinding out this song on guitar, it's coming along but slowly and most certainly not easily.|||Some vague advice I can give is this, it can always be worse and in most cases it probably will be someday. So it works to look at any current situation like this, it helps to appreciate what you...|||Content, not happy but more content than I've been in a while, a LONG f'n while. I'll take it.|||For breakfast I had a piece of grilled chicken and a Guinness.|||-Seven -The Decent -Rocky -Heat -Silence of the Lambs|||http://www.youtube.com/watch?v=gvYm6kVY2IE|||Robb Flynn of Machine Head, Michael Amott of Arch Enemy, Jerry Cantrell of AIC.  Edit: Forgot to include Zakk Wylde, a musical genius.|||Pucca...That shirt could be a lot of fun indeed. :)|||....Watching a video of Megadeth live on the Big Four Tour.|||http://www.youtube.com/watch?v=2XhGQisD040|||JungleDisco...Takin' it back with Silk. Great Stuff.   http://www.youtube.com/watch?v=9uhLDWCqSQQ|||Rockin' some Down right now.....   http://www.youtube.com/watch?v=aKfmYGlhWWk|||....I currently desire for July 20th to roll around so I can finally see Machine Head live at this years Mayhem Festival. F**k yeah.    http://www.youtube.com/watch?v=lK588zl0l2M\""
      ]
     },
     "execution_count": 39,
     "metadata": {},
     "output_type": "execute_result"
    }
   ],
   "source": [
    "data.loc[8, \"posts\"]"
   ]
  },
  {
   "cell_type": "code",
   "execution_count": 42,
   "id": "f5b6e722",
   "metadata": {},
   "outputs": [
    {
     "name": "stdout",
     "output_type": "stream",
     "text": [
      "' ||| |||enfp and intj moments     sportscenter not top ten plays     pranks|||what has been the most life-changing experience in your life?|||       on repeat for most of today.|||may the perc experience immerse you.|||the last thing my infj friend posted on his facebook before committing suicide the next day. rest in peace~    |||hello enfj7. sorry to hear of your distress. it's only natural for a relationship to not be perfection all the time in every moment of existence. try to figure the hard times as times of growth, as...|||84389  84390       ...|||welcome and stuff.|||   game. set. match.|||prozac, wellbrutin, at least thirty minutes of moving your legs (and i don't mean moving them while sitting in your same desk chair), weed in moderation (maybe try edibles as a healthier alternative...|||basically come up with three items you've determined that each type (or whichever types you want to do) would more than likely use, given each types' cognitive functions and whatnot, when left by...|||all things in moderation.  sims is indeed a video game, and a good one at that. note: a good one at that is somewhat subjective in that i am not completely promoting the death of any given sim...|||dear enfp:  what were your favorite video games growing up and what are your now, current favorite video games? :cool:||| |||it appears to be too late. :sad:|||there's someone out there for everyone.|||wait... i thought confidence was a good thing.|||i just cherish the time of solitude b/c i revel within my inner world more whereas most other time i'd be workin... just enjoy the me time while you can. don't worry, people will always be around to...|||yo entp ladies... if you're into a complimentary personality,well, hey.|||... when your main social outlet is xbox live conversations and even then you verbally fatigue quickly.|||   i really dig the part from 1:46 to 2:50||| |||banned because this thread requires it of me.|||get high in backyard, roast and eat marshmellows in backyard while conversing over something intellectual, followed by massages and kisses.||| ||| ||| |||banned for too many b's in that sentence. how could you! think of the b!|||banned for watching movies in the corner with the dunces.|||banned because health class clearly taught you nothing about peer pressure.|||banned for a whole host of reasons!||| |||1) two baby deer on left and right munching on a beetle in the middle.  2) using their own blood, two cavemen diary today's latest happenings on their designated cave diary wall.  3) i see it as...|||a pokemon world  an infj society  everyone becomes an optimist|||49142||| ||| ||| ||| |||not all artists are artists because they draw. it's the idea that counts in forming something of your own... like a signature.|||welcome to the robot ranks, person who downed my self-esteem cuz i'm not an avid signature artist like herself. :proud:|||banned for taking all the room under my bed. ya gotta learn to share with the roaches.||| |||banned for being too much of a thundering, grumbling kind of storm... yep.|||ahh... old high school music i haven't heard in ages.    |||i failed a public speaking class a few years ago and i've sort of learned what i could do better were i to be in that position again. a big part of my failure was just overloading myself with too...|||i like this person's mentality. he's a confirmed intj by the way.  |||move to the denver area and start a new life for myself.'\n"
     ]
    }
   ],
   "source": [
    "#CLEANING\n",
    "data[\"posts\"] = data[\"posts\"].str.lower()\n",
    "print(data.loc[0, \"posts\"])"
   ]
  },
  {
   "cell_type": "code",
   "execution_count": 43,
   "id": "35c1045b",
   "metadata": {},
   "outputs": [
    {
     "name": "stdout",
     "output_type": "stream",
     "text": [
      "' ||| |||enfp and intj moments     sportscenter not top ten plays     pranks|||what has been the most life-changing experience in your life?|||       on repeat for most of today.|||may the perc experience immerse you.|||the last thing my infj friend posted on his facebook before committing suicide the next day. rest in peace~    |||hello enfj7. sorry to hear of your distress. it's only natural for a relationship to not be perfection all the time in every moment of existence. try to figure the hard times as times of growth, as...|||84389  84390       ...|||welcome and stuff.|||   game. set. match.|||prozac, wellbrutin, at least thirty minutes of moving your legs (and i don't mean moving them while sitting in your same desk chair), weed in moderation (maybe try edibles as a healthier alternative...|||basically come up with three items you've determined that each type (or whichever types you want to do) would more than likely use, given each types' cognitive functions and whatnot, when left by...|||all things in moderation.  sims is indeed a video game, and a good one at that. note: a good one at that is somewhat subjective in that i am not completely promoting the death of any given sim...|||dear enfp:  what were your favorite video games growing up and what are your now, current favorite video games? :cool:||| |||it appears to be too late. :sad:|||there's someone out there for everyone.|||wait... i thought confidence was a good thing.|||i just cherish the time of solitude b/c i revel within my inner world more whereas most other time i'd be workin... just enjoy the me time while you can. don't worry, people will always be around to...|||yo entp ladies... if you're into a complimentary personality,well, hey.|||... when your main social outlet is xbox live conversations and even then you verbally fatigue quickly.|||   i really dig the part from 1:46 to 2:50||| |||banned because this thread requires it of me.|||get high in backyard, roast and eat marshmellows in backyard while conversing over something intellectual, followed by massages and kisses.||| ||| ||| |||banned for too many b's in that sentence. how could you! think of the b!|||banned for watching movies in the corner with the dunces.|||banned because health class clearly taught you nothing about peer pressure.|||banned for a whole host of reasons!||| |||1) two baby deer on left and right munching on a beetle in the middle.  2) using their own blood, two cavemen diary today's latest happenings on their designated cave diary wall.  3) i see it as...|||a pokemon world  an infj society  everyone becomes an optimist|||49142||| ||| ||| ||| |||not all artists are artists because they draw. it's the idea that counts in forming something of your own... like a signature.|||welcome to the robot ranks, person who downed my self-esteem cuz i'm not an avid signature artist like herself. :proud:|||banned for taking all the room under my bed. ya gotta learn to share with the roaches.||| |||banned for being too much of a thundering, grumbling kind of storm... yep.|||ahh... old high school music i haven't heard in ages.    |||i failed a public speaking class a few years ago and i've sort of learned what i could do better were i to be in that position again. a big part of my failure was just overloading myself with too...|||i like this person's mentality. he's a confirmed intj by the way.  |||move to the denver area and start a new life for myself.'\n"
     ]
    }
   ],
   "source": [
    "for i in range(len(data)):\n",
    "  post_temp=data._get_value(i, 'posts')\n",
    "  pattern = re.compile(r'https?://[a-zA-Z0-9./-]*/[a-zA-Z0-9?=_.]*[_0-9.a-zA-Z/-]*')    #to match url links present in the post\n",
    "  post_temp= re.sub(pattern, ' ', post_temp)                                            #to replace that url link with space\n",
    "  data._set_value(i, 'posts',post_temp)\n",
    "print(data.loc[0, \"posts\"])"
   ]
  },
  {
   "cell_type": "code",
   "execution_count": 24,
   "id": "df12f396",
   "metadata": {},
   "outputs": [],
   "source": [
    "for i in range(len(data)):\n",
    "  post_temp=data._get_value(i, 'posts')\n",
    "  pattern = re.compile(r'[0-9]')                                    #to match numbers from 0 to 9\n",
    "  post_temp= re.sub(pattern, ' ', post_temp)                        #to replace them with space\n",
    "  pattern = re.compile('\\W+')                                       #to match alphanumeric characters\n",
    "  post_temp= re.sub(pattern, ' ', post_temp)                        #to replace them with space\n",
    "  pattern = re.compile(r'[_+]')\n",
    "  post_temp= re.sub(pattern, ' ', post_temp)\n",
    "  data._set_value(i, 'posts',post_temp)"
   ]
  },
  {
   "cell_type": "code",
   "execution_count": 25,
   "id": "1a95704a",
   "metadata": {},
   "outputs": [],
   "source": [
    "for i in range(len(data)):\n",
    "  post_temp=data._get_value(i, 'posts')\n",
    "  pattern = re.compile('\\s+')                                     #to match multiple whitespaces\n",
    "  post_temp= re.sub(pattern, ' ', post_temp)                      #to replace them with single whitespace\n",
    "  data._set_value(i, 'posts', post_temp)"
   ]
  },
  {
   "cell_type": "code",
   "execution_count": 26,
   "id": "9bbcbd73",
   "metadata": {},
   "outputs": [
    {
     "name": "stderr",
     "output_type": "stream",
     "text": [
      "[nltk_data] Downloading package stopwords to C:\\Users\\Ananya\n",
      "[nltk_data]     S\\AppData\\Roaming\\nltk_data...\n",
      "[nltk_data]   Package stopwords is already up-to-date!\n"
     ]
    },
    {
     "data": {
      "text/plain": [
       "True"
      ]
     },
     "execution_count": 26,
     "metadata": {},
     "output_type": "execute_result"
    }
   ],
   "source": [
    "from nltk.corpus import stopwords\n",
    "nltk.download('stopwords')"
   ]
  },
  {
   "cell_type": "code",
   "execution_count": 27,
   "id": "109676f2",
   "metadata": {},
   "outputs": [],
   "source": [
    "remove_words = stopwords.words(\"english\")\n",
    "for i in range(data.shape[0]):\n",
    "  post_temp=data._get_value(i, 'posts')\n",
    "  post_temp=\" \".join([w for w in post_temp.split(' ') if w not in remove_words])    #to remove stopwords and give one space between words. \n",
    "  data._set_value(i, 'posts', post_temp)"
   ]
  },
  {
   "cell_type": "code",
   "execution_count": 28,
   "id": "e85a00ab",
   "metadata": {},
   "outputs": [
    {
     "name": "stderr",
     "output_type": "stream",
     "text": [
      "[nltk_data] Downloading package wordnet to C:\\Users\\Ananya\n",
      "[nltk_data]     S\\AppData\\Roaming\\nltk_data...\n",
      "[nltk_data]   Package wordnet is already up-to-date!\n"
     ]
    },
    {
     "data": {
      "text/plain": [
       "True"
      ]
     },
     "execution_count": 28,
     "metadata": {},
     "output_type": "execute_result"
    }
   ],
   "source": [
    "from nltk.stem import WordNetLemmatizer\n",
    "lemmatizer = WordNetLemmatizer()\n",
    "nltk.download('wordnet')"
   ]
  },
  {
   "cell_type": "code",
   "execution_count": 29,
   "id": "9ae005fe",
   "metadata": {},
   "outputs": [
    {
     "name": "stderr",
     "output_type": "stream",
     "text": [
      "[nltk_data] Downloading package omw-1.4 to C:\\Users\\Ananya\n",
      "[nltk_data]     S\\AppData\\Roaming\\nltk_data...\n",
      "[nltk_data]   Package omw-1.4 is already up-to-date!\n"
     ]
    },
    {
     "data": {
      "text/plain": [
       "True"
      ]
     },
     "execution_count": 29,
     "metadata": {},
     "output_type": "execute_result"
    }
   ],
   "source": [
    "nltk.download('omw-1.4')"
   ]
  },
  {
   "cell_type": "code",
   "execution_count": 30,
   "id": "eca0ee99",
   "metadata": {},
   "outputs": [],
   "source": [
    "for i in range(data.shape[0]):\n",
    "  post_temp=data._get_value(i, 'posts')\n",
    "  post_temp=\" \".join([lemmatizer.lemmatize(w) for w in post_temp.split(' ')])   #to implement lemmetization i.e. to group together different forms of a word\n",
    "  data._set_value(i, 'posts', post_temp)"
   ]
  },
  {
   "cell_type": "code",
   "execution_count": 31,
   "id": "e1d82ba8",
   "metadata": {},
   "outputs": [
    {
     "name": "stdout",
     "output_type": "stream",
     "text": [
      "      type                                              posts\n",
      "0     INFJ   enfp intj moment sportscenter top ten play pr...\n",
      "1     ENTP   finding lack post alarming sex boring positio...\n",
      "2     INTP   good one course say know blessing curse absol...\n",
      "3     INTJ   dear intp enjoyed conversation day esoteric g...\n",
      "4     ENTJ   fired another silly misconception approaching...\n",
      "...    ...                                                ...\n",
      "8670  ISFP   ixfp always think cat fi doms reason especial...\n",
      "8671  ENFP   thread already exists someplace else post hec...\n",
      "8672  INTP   many question thing would take purple pill pi...\n",
      "8673  INFP   conflicted right come wanting child honestly ...\n",
      "8674  INFP   long since personalitycafe although seem chan...\n",
      "\n",
      "[8675 rows x 2 columns]\n"
     ]
    }
   ],
   "source": [
    "print(data)"
   ]
  },
  {
   "cell_type": "code",
   "execution_count": 32,
   "id": "c57caa45",
   "metadata": {},
   "outputs": [],
   "source": [
    "from sklearn.metrics import roc_curve\n",
    "from sklearn.metrics import roc_auc_score\n",
    "from sklearn.feature_extraction.text import TfidfVectorizer\n",
    "from sklearn.feature_extraction.text import CountVectorizer,TfidfTransformer\n",
    "from sklearn.metrics import accuracy_score\n",
    "from sklearn.model_selection import GridSearchCV"
   ]
  },
  {
   "cell_type": "code",
   "execution_count": 33,
   "id": "8691fcc6",
   "metadata": {},
   "outputs": [],
   "source": [
    "from sklearn.model_selection import train_test_split\n",
    "train_data,test_data=train_test_split(data,test_size=0.2,random_state=42,stratify=data.type)"
   ]
  },
  {
   "cell_type": "code",
   "execution_count": 26,
   "id": "2e11d60d",
   "metadata": {},
   "outputs": [
    {
     "name": "stdout",
     "output_type": "stream",
     "text": [
      "      type                                              posts\n",
      "7814  INFP   macona depends big family extroverted people ...\n",
      "2233  ENFJ   blodsmak sveltihel brilliant episode regenera...\n",
      "7261  INFJ   heylena lol compliment accepted thank jeesh f...\n",
      "7794  INFJ   pac right rocket coffin like packed warhead r...\n",
      "2950  INTJ   title thread misleading mention world dominat...\n",
      "...    ...                                                ...\n",
      "2006  INTJ   one sentence restrictive accurately portray d...\n",
      "7137  ISTJ   wanted like odd hybrid dr james wilson house ...\n",
      "6091  ENTP   took cognitive process test got cognitive pro...\n",
      "2997  INFJ   get caught fantacy relationship better forget...\n",
      "5458  ENTJ   doll love movie listed make think tritype one...\n",
      "\n",
      "[1735 rows x 2 columns]\n"
     ]
    }
   ],
   "source": [
    "print(test_data)"
   ]
  },
  {
   "cell_type": "code",
   "execution_count": 27,
   "id": "f8b8606e",
   "metadata": {},
   "outputs": [
    {
     "name": "stdout",
     "output_type": "stream",
     "text": [
      "      type                                              posts\n",
      "8331  INFP   actually exactly expected laughing introversi...\n",
      "1290  ISTP   nope ever busy work cause adrenaline rush act...\n",
      "1982  ENFJ   yes peace absence conflict infp friend suxx h...\n",
      "769   INFP   apologize delayed response thank taking time ...\n",
      "8339  INFP   nightglow even imagine must struggling right ...\n",
      "...    ...                                                ...\n",
      "4273  INFP   annoyed sick negative association uncontrolle...\n",
      "2698  INFP   dad told loved think first time life mean sai...\n",
      "7435  ENTJ   dated infjs including current partner year pr...\n",
      "1843  INTP   people unable replace social norm rational ef...\n",
      "2530  ENTP   yep right agree think seeking pressure releva...\n",
      "\n",
      "[6940 rows x 2 columns]\n"
     ]
    }
   ],
   "source": [
    "print(train_data)"
   ]
  },
  {
   "cell_type": "code",
   "execution_count": 28,
   "id": "e6846384",
   "metadata": {},
   "outputs": [],
   "source": [
    "vectorizer=TfidfVectorizer( max_features=5000,stop_words='english')\n",
    "vectorizer.fit(train_data.posts)\n",
    "train_post=vectorizer.transform(train_data.posts).toarray()\n",
    "test_post=vectorizer.transform(test_data.posts).toarray()"
   ]
  },
  {
   "cell_type": "code",
   "execution_count": 29,
   "id": "91aad3e7",
   "metadata": {},
   "outputs": [],
   "source": [
    "from sklearn.preprocessing import LabelEncoder\n",
    "target_encoder=LabelEncoder()\n",
    "train_target=target_encoder.fit_transform(train_data.type)\n",
    "test_target=target_encoder.fit_transform(test_data.type)"
   ]
  },
  {
   "cell_type": "code",
   "execution_count": 30,
   "id": "c453e238",
   "metadata": {},
   "outputs": [],
   "source": [
    "#MODEL IMPLEMENTATION\n",
    "from sklearn.svm import SVC"
   ]
  },
  {
   "cell_type": "code",
   "execution_count": 31,
   "id": "8b484d47",
   "metadata": {},
   "outputs": [],
   "source": [
    "model_svc=SVC()\n",
    "model_svc.fit(train_post,train_target)\n",
    "pred_svc=model_svc.predict(test_post)"
   ]
  },
  {
   "cell_type": "code",
   "execution_count": 32,
   "id": "8350096c",
   "metadata": {},
   "outputs": [],
   "source": [
    "pred_training_svc=model_svc.predict(train_post)"
   ]
  },
  {
   "cell_type": "code",
   "execution_count": 33,
   "id": "935672b5",
   "metadata": {},
   "outputs": [
    {
     "name": "stdout",
     "output_type": "stream",
     "text": [
      "The train accuracy score for model trained on Support Classifier is: 0.9510086455331412\n"
     ]
    }
   ],
   "source": [
    "print(\"The train accuracy score for model trained on Support Classifier is:\",accuracy_score(train_target,pred_training_svc))"
   ]
  },
  {
   "cell_type": "code",
   "execution_count": 34,
   "id": "0bd53c8e",
   "metadata": {},
   "outputs": [
    {
     "name": "stdout",
     "output_type": "stream",
     "text": [
      "The test accuracy score for model trained on Support Vector classifier is: 0.6536023054755044\n"
     ]
    }
   ],
   "source": [
    "print(\"The test accuracy score for model trained on Support Vector classifier is:\",accuracy_score(test_target,pred_svc))"
   ]
  },
  {
   "cell_type": "code",
   "execution_count": 35,
   "id": "19b9a538",
   "metadata": {},
   "outputs": [
    {
     "name": "stdout",
     "output_type": "stream",
     "text": [
      "Test classification report of Support Vector Machine\n",
      "               precision    recall  f1-score   support\n",
      "\n",
      "        ENFJ       0.67      0.26      0.38        38\n",
      "        ENFP       0.77      0.59      0.66       135\n",
      "        ENTJ       0.76      0.28      0.41        46\n",
      "        ENTP       0.68      0.52      0.59       137\n",
      "        ESFJ       0.33      0.11      0.17         9\n",
      "        ESFP       0.00      0.00      0.00        10\n",
      "        ESTJ       0.00      0.00      0.00         8\n",
      "        ESTP       0.83      0.28      0.42        18\n",
      "        INFJ       0.67      0.69      0.68       294\n",
      "        INFP       0.60      0.87      0.71       366\n",
      "        INTJ       0.65      0.64      0.64       218\n",
      "        INTP       0.65      0.84      0.73       261\n",
      "        ISFJ       0.83      0.30      0.44        33\n",
      "        ISFP       0.78      0.33      0.47        54\n",
      "        ISTJ       0.75      0.29      0.42        41\n",
      "        ISTP       0.76      0.57      0.65        67\n",
      "\n",
      "    accuracy                           0.65      1735\n",
      "   macro avg       0.61      0.41      0.46      1735\n",
      "weighted avg       0.66      0.65      0.64      1735\n",
      "\n"
     ]
    },
    {
     "name": "stderr",
     "output_type": "stream",
     "text": [
      "D:\\Users\\AnanyaS\\anaconda3\\lib\\site-packages\\sklearn\\metrics\\_classification.py:1318: UndefinedMetricWarning: Precision and F-score are ill-defined and being set to 0.0 in labels with no predicted samples. Use `zero_division` parameter to control this behavior.\n",
      "  _warn_prf(average, modifier, msg_start, len(result))\n",
      "D:\\Users\\AnanyaS\\anaconda3\\lib\\site-packages\\sklearn\\metrics\\_classification.py:1318: UndefinedMetricWarning: Precision and F-score are ill-defined and being set to 0.0 in labels with no predicted samples. Use `zero_division` parameter to control this behavior.\n",
      "  _warn_prf(average, modifier, msg_start, len(result))\n",
      "D:\\Users\\AnanyaS\\anaconda3\\lib\\site-packages\\sklearn\\metrics\\_classification.py:1318: UndefinedMetricWarning: Precision and F-score are ill-defined and being set to 0.0 in labels with no predicted samples. Use `zero_division` parameter to control this behavior.\n",
      "  _warn_prf(average, modifier, msg_start, len(result))\n"
     ]
    }
   ],
   "source": [
    "from sklearn.metrics import classification_report\n",
    "personality_types=target_encoder.inverse_transform([i for i in range(16)])\n",
    "print('Test classification report of Support Vector Machine\\n',classification_report(test_target,model_svc.predict(test_post),target_names=personality_types))"
   ]
  },
  {
   "cell_type": "code",
   "execution_count": 36,
   "id": "2d277675",
   "metadata": {},
   "outputs": [],
   "source": [
    "#XGBOOST\n",
    "from xgboost import XGBClassifier\n",
    "model_xgb=XGBClassifier()\n",
    "model_xgb.fit(train_post,train_target)\n",
    "pred_xgb=model_xgb.predict(test_post)"
   ]
  },
  {
   "cell_type": "code",
   "execution_count": 37,
   "id": "d87ddd40",
   "metadata": {},
   "outputs": [],
   "source": [
    "pred_training_xgb=model_xgb.predict(train_post)"
   ]
  },
  {
   "cell_type": "code",
   "execution_count": 38,
   "id": "6bf9e0e2",
   "metadata": {},
   "outputs": [
    {
     "name": "stdout",
     "output_type": "stream",
     "text": [
      "The train accuracy score for model trained on XGBoost Classifier is: 1.0\n"
     ]
    }
   ],
   "source": [
    "print(\"The train accuracy score for model trained on XGBoost Classifier is:\",accuracy_score(train_target,pred_training_xgb))"
   ]
  },
  {
   "cell_type": "code",
   "execution_count": 39,
   "id": "5a7f82df",
   "metadata": {},
   "outputs": [
    {
     "name": "stdout",
     "output_type": "stream",
     "text": [
      "The test accuracy score for model trained on XGBoost classifier is: 0.6651296829971182\n"
     ]
    }
   ],
   "source": [
    "print(\"The test accuracy score for model trained on XGBoost classifier is:\",accuracy_score(test_target,pred_xgb))"
   ]
  },
  {
   "cell_type": "code",
   "execution_count": 40,
   "id": "2382014c",
   "metadata": {},
   "outputs": [
    {
     "name": "stdout",
     "output_type": "stream",
     "text": [
      "Test classification report of XGBoost Classifier\n",
      "               precision    recall  f1-score   support\n",
      "\n",
      "        ENFJ       0.61      0.50      0.55        38\n",
      "        ENFP       0.72      0.64      0.68       135\n",
      "        ENTJ       0.61      0.37      0.46        46\n",
      "        ENTP       0.59      0.59      0.59       137\n",
      "        ESFJ       1.00      0.11      0.20         9\n",
      "        ESFP       0.00      0.00      0.00        10\n",
      "        ESTJ       1.00      0.38      0.55         8\n",
      "        ESTP       0.50      0.28      0.36        18\n",
      "        INFJ       0.66      0.73      0.69       294\n",
      "        INFP       0.66      0.78      0.71       366\n",
      "        INTJ       0.65      0.66      0.65       218\n",
      "        INTP       0.71      0.79      0.75       261\n",
      "        ISFJ       0.62      0.45      0.53        33\n",
      "        ISFP       0.67      0.41      0.51        54\n",
      "        ISTJ       0.62      0.39      0.48        41\n",
      "        ISTP       0.74      0.60      0.66        67\n",
      "\n",
      "    accuracy                           0.67      1735\n",
      "   macro avg       0.65      0.48      0.52      1735\n",
      "weighted avg       0.66      0.67      0.66      1735\n",
      "\n"
     ]
    },
    {
     "name": "stderr",
     "output_type": "stream",
     "text": [
      "D:\\Users\\AnanyaS\\anaconda3\\lib\\site-packages\\sklearn\\metrics\\_classification.py:1318: UndefinedMetricWarning: Precision and F-score are ill-defined and being set to 0.0 in labels with no predicted samples. Use `zero_division` parameter to control this behavior.\n",
      "  _warn_prf(average, modifier, msg_start, len(result))\n",
      "D:\\Users\\AnanyaS\\anaconda3\\lib\\site-packages\\sklearn\\metrics\\_classification.py:1318: UndefinedMetricWarning: Precision and F-score are ill-defined and being set to 0.0 in labels with no predicted samples. Use `zero_division` parameter to control this behavior.\n",
      "  _warn_prf(average, modifier, msg_start, len(result))\n",
      "D:\\Users\\AnanyaS\\anaconda3\\lib\\site-packages\\sklearn\\metrics\\_classification.py:1318: UndefinedMetricWarning: Precision and F-score are ill-defined and being set to 0.0 in labels with no predicted samples. Use `zero_division` parameter to control this behavior.\n",
      "  _warn_prf(average, modifier, msg_start, len(result))\n"
     ]
    }
   ],
   "source": [
    "from sklearn.metrics import classification_report\n",
    "personality_types=target_encoder.inverse_transform([i for i in range(16)])\n",
    "print('Test classification report of XGBoost Classifier\\n',classification_report(test_target,model_xgb.predict(test_post),target_names=personality_types))"
   ]
  },
  {
   "cell_type": "code",
   "execution_count": 41,
   "id": "cefdd268",
   "metadata": {},
   "outputs": [],
   "source": [
    "#RandomForestClassifier\n",
    "from sklearn.ensemble import RandomForestClassifier"
   ]
  },
  {
   "cell_type": "code",
   "execution_count": 42,
   "id": "f8d6b6eb",
   "metadata": {},
   "outputs": [],
   "source": [
    "model_rfc=RandomForestClassifier()\n",
    "model_rfc.fit(train_post,train_target)\n",
    "pred_rfc=model_rfc.predict(test_post)"
   ]
  },
  {
   "cell_type": "code",
   "execution_count": 43,
   "id": "6424ff1e",
   "metadata": {},
   "outputs": [],
   "source": [
    "pred_training_rfc=model_rfc.predict(train_post)"
   ]
  },
  {
   "cell_type": "code",
   "execution_count": 44,
   "id": "64476b16",
   "metadata": {},
   "outputs": [
    {
     "name": "stdout",
     "output_type": "stream",
     "text": [
      "The train accuracy score for model trained on Random Forest Classifier is: 1.0\n"
     ]
    }
   ],
   "source": [
    "print(\"The train accuracy score for model trained on Random Forest Classifier is:\",accuracy_score(train_target,pred_training_rfc))"
   ]
  },
  {
   "cell_type": "code",
   "execution_count": 45,
   "id": "5d273bc3",
   "metadata": {},
   "outputs": [
    {
     "name": "stdout",
     "output_type": "stream",
     "text": [
      "The test acccuracy score for model trained on Random Forest Classifier is: 0.5602305475504322\n"
     ]
    }
   ],
   "source": [
    "print(\"The test acccuracy score for model trained on Random Forest Classifier is:\",accuracy_score(test_target,pred_rfc))"
   ]
  },
  {
   "cell_type": "code",
   "execution_count": 46,
   "id": "7879f34d",
   "metadata": {},
   "outputs": [
    {
     "name": "stdout",
     "output_type": "stream",
     "text": [
      "Test classification report of Random Forest Classifier\n",
      "               precision    recall  f1-score   support\n",
      "\n",
      "        ENFJ       0.50      0.03      0.05        38\n",
      "        ENFP       0.71      0.31      0.43       135\n",
      "        ENTJ       0.50      0.04      0.08        46\n",
      "        ENTP       0.69      0.45      0.54       137\n",
      "        ESFJ       0.00      0.00      0.00         9\n",
      "        ESFP       0.00      0.00      0.00        10\n",
      "        ESTJ       0.00      0.00      0.00         8\n",
      "        ESTP       0.00      0.00      0.00        18\n",
      "        INFJ       0.58      0.76      0.66       294\n",
      "        INFP       0.46      0.86      0.60       366\n",
      "        INTJ       0.63      0.52      0.57       218\n",
      "        INTP       0.62      0.73      0.67       261\n",
      "        ISFJ       1.00      0.03      0.06        33\n",
      "        ISFP       1.00      0.04      0.07        54\n",
      "        ISTJ       0.00      0.00      0.00        41\n",
      "        ISTP       0.83      0.30      0.44        67\n",
      "\n",
      "    accuracy                           0.56      1735\n",
      "   macro avg       0.47      0.25      0.26      1735\n",
      "weighted avg       0.59      0.56      0.51      1735\n",
      "\n"
     ]
    },
    {
     "name": "stderr",
     "output_type": "stream",
     "text": [
      "D:\\Users\\AnanyaS\\anaconda3\\lib\\site-packages\\sklearn\\metrics\\_classification.py:1318: UndefinedMetricWarning: Precision and F-score are ill-defined and being set to 0.0 in labels with no predicted samples. Use `zero_division` parameter to control this behavior.\n",
      "  _warn_prf(average, modifier, msg_start, len(result))\n",
      "D:\\Users\\AnanyaS\\anaconda3\\lib\\site-packages\\sklearn\\metrics\\_classification.py:1318: UndefinedMetricWarning: Precision and F-score are ill-defined and being set to 0.0 in labels with no predicted samples. Use `zero_division` parameter to control this behavior.\n",
      "  _warn_prf(average, modifier, msg_start, len(result))\n",
      "D:\\Users\\AnanyaS\\anaconda3\\lib\\site-packages\\sklearn\\metrics\\_classification.py:1318: UndefinedMetricWarning: Precision and F-score are ill-defined and being set to 0.0 in labels with no predicted samples. Use `zero_division` parameter to control this behavior.\n",
      "  _warn_prf(average, modifier, msg_start, len(result))\n"
     ]
    }
   ],
   "source": [
    "from sklearn.metrics import classification_report\n",
    "personality_types=target_encoder.inverse_transform([i for i in range(16)])\n",
    "print('Test classification report of Random Forest Classifier\\n',classification_report(test_target,model_rfc.predict(test_post),target_names=personality_types))"
   ]
  },
  {
   "cell_type": "code",
   "execution_count": 47,
   "id": "ad0fe990",
   "metadata": {},
   "outputs": [],
   "source": [
    "result_df=pd.DataFrame({'Model':[\"SVM\",\"XGBoost\",\"Random Forest\"],\n",
    "                        'Accuracy':[accuracy_score(test_target,pred_svc),accuracy_score(test_target,pred_xgb),accuracy_score(test_target,pred_rfc)]})"
   ]
  },
  {
   "cell_type": "code",
   "execution_count": 48,
   "id": "85b24c74",
   "metadata": {},
   "outputs": [
    {
     "name": "stdout",
     "output_type": "stream",
     "text": [
      "           Model  Accuracy\n",
      "2  Random Forest  0.560231\n",
      "0            SVM  0.653602\n",
      "1        XGBoost  0.665130\n"
     ]
    }
   ],
   "source": [
    "print(result_df.sort_values(by = 'Accuracy'))"
   ]
  },
  {
   "cell_type": "code",
   "execution_count": null,
   "id": "5607efeb",
   "metadata": {},
   "outputs": [],
   "source": []
  }
 ],
 "metadata": {
  "kernelspec": {
   "display_name": "Python 3 (ipykernel)",
   "language": "python",
   "name": "python3"
  },
  "language_info": {
   "codemirror_mode": {
    "name": "ipython",
    "version": 3
   },
   "file_extension": ".py",
   "mimetype": "text/x-python",
   "name": "python",
   "nbconvert_exporter": "python",
   "pygments_lexer": "ipython3",
   "version": "3.9.12"
  }
 },
 "nbformat": 4,
 "nbformat_minor": 5
}
